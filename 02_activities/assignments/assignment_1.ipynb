{
  "cells": [
    {
      "cell_type": "markdown",
      "id": "ba8ab56f",
      "metadata": {
        "id": "ba8ab56f"
      },
      "source": [
        "# Advanced Image Classification with ImageNet"
      ]
    },
    {
      "cell_type": "markdown",
      "id": "7c630244b8fe2847",
      "metadata": {
        "collapsed": false,
        "id": "7c630244b8fe2847"
      },
      "source": [
        "In this assignment, you will be asked to develop a convolutional neural network (CNN) to classify images from the CIFAR-100 dataset. At each step, you'll be guided through the process of developing a model architecture to solve a problem. Your goal is to create a CNN that attains at least 55% accuracy on the validation set.\n",
        "\n",
        "### The CIFAR-100 Dataset\n",
        "\n",
        "The [CIFAR-100 dataset](https://www.cs.toronto.edu/~kriz/cifar.html) consists of 60000 32x32 colour images in 100 classes, with 600 images per class. There are 50000 training images and 10000 test images. The dataset is divided into five training batches and one test batch, each with 10000 images. The test batch contains exactly 1000 randomly-selected images from each class. The training batches contain the remaining images in random order, but some training batches may contain more images from one class than another. Between them, the training batches contain exactly 500 images from each class.\n",
        "\n",
        "### Tools\n",
        "\n",
        "You will use Keras with TensorFlow to develop your CNN. For this assignment, it's strongly recommended that you use a GPU to accelerate your training, or else you might find it difficult to train your network in a reasonable amount of time. If you have a computer with a GPU that you wish to use, you can follow the [TensorFlow instructions](https://www.tensorflow.org/install/) for installing TensorFlow with GPU support. Otherwise, you can use [Google Colab](https://colab.research.google.com/) to complete this assignment. Colab provides free access to GPU-enabled machines. If you run into any issues, please contact us as soon as possible so that we can help you resolve them."
      ]
    },
    {
      "cell_type": "markdown",
      "id": "fab62988ece1528d",
      "metadata": {
        "collapsed": false,
        "id": "fab62988ece1528d"
      },
      "source": [
        "## Task 1: Data Exploration and Preprocessing (Complete or Incomplete)\n",
        "### 1a: Load and Explore the Dataset\n",
        "- Use the code below to download the dataset.\n",
        "- Explore the dataset: examine the shape of the training and test sets, the dimensions of the images, and the number of classes. Show a few examples from the training set."
      ]
    },
    {
      "cell_type": "code",
      "execution_count": 44,
      "id": "8820fcdc5ae52ae2",
      "metadata": {
        "ExecuteTime": {
          "start_time": "2024-01-26T17:04:08.432758Z"
        },
        "is_executing": true,
        "id": "8820fcdc5ae52ae2"
      },
      "outputs": [],
      "source": [
        "from keras.datasets import cifar100\n",
        "\n",
        "# Load the CIFAR-100 dataset\n",
        "(x_t, y_t), (x_test, y_test) = cifar100.load_data(label_mode='fine')"
      ]
    },
    {
      "cell_type": "code",
      "execution_count": 45,
      "id": "a386b4072078138f",
      "metadata": {
        "id": "a386b4072078138f"
      },
      "outputs": [],
      "source": [
        "class_names = [\n",
        "    \"apple\", \"aquarium_fish\", \"baby\", \"bear\", \"beaver\", \"bed\", \"bee\", \"beetle\", \"bicycle\", \"bottle\",\n",
        "    \"bowl\", \"boy\", \"bridge\", \"bus\", \"butterfly\", \"camel\", \"can\", \"castle\", \"caterpillar\", \"cattle\",\n",
        "    \"chair\", \"chimpanzee\", \"clock\", \"cloud\", \"cockroach\", \"couch\", \"crab\", \"crocodile\", \"cup\", \"dinosaur\",\n",
        "    \"dolphin\", \"elephant\", \"flatfish\", \"forest\", \"fox\", \"girl\", \"hamster\", \"house\", \"kangaroo\", \"keyboard\",\n",
        "    \"lamp\", \"lawn_mower\", \"leopard\", \"lion\", \"lizard\", \"lobster\", \"man\", \"maple_tree\", \"motorcycle\", \"mountain\",\n",
        "    \"mouse\", \"mushroom\", \"oak_tree\", \"orange\", \"orchid\", \"otter\", \"palm_tree\", \"pear\", \"pickup_truck\", \"pine_tree\",\n",
        "    \"plain\", \"plate\", \"poppy\", \"porcupine\", \"possum\", \"rabbit\", \"raccoon\", \"ray\", \"road\", \"rocket\",\n",
        "    \"rose\", \"sea\", \"seal\", \"shark\", \"shrew\", \"skunk\", \"skyscraper\", \"snail\", \"snake\", \"spider\",\n",
        "    \"squirrel\", \"streetcar\", \"sunflower\", \"sweet_pepper\", \"table\", \"tank\", \"telephone\", \"television\", \"tiger\", \"tractor\",\n",
        "    \"train\", \"trout\", \"tulip\", \"turtle\", \"wardrobe\", \"whale\", \"willow_tree\", \"wolf\", \"woman\", \"worm\"\n",
        "]"
      ]
    },
    {
      "cell_type": "code",
      "execution_count": 46,
      "id": "36ca8354",
      "metadata": {
        "id": "36ca8354",
        "outputId": "4ed922ac-34c4-42c7-d6f2-21c151dd369c",
        "colab": {
          "base_uri": "https://localhost:8080/"
        }
      },
      "outputs": [
        {
          "output_type": "stream",
          "name": "stdout",
          "text": [
            "x train  (50000, 32, 32, 3)\n",
            " y train (50000, 1)\n",
            "x test  (10000, 32, 32, 3)\n",
            "y test  (10000, 1)\n",
            " no of classes  100\n"
          ]
        }
      ],
      "source": [
        "# Your Code Here\n",
        "print(\"x train \" , x_t.shape) # cotains dimensions of image\n",
        "print(\" y train\" ,y_t.shape)\n",
        "print(\"x test \", x_test.shape)\n",
        "print(\"y test \", y_test.shape)\n",
        "\n",
        "print (\" no of classes \", len(class_names))\n",
        "\n"
      ]
    },
    {
      "cell_type": "markdown",
      "id": "ad49291da3a819ea",
      "metadata": {
        "collapsed": false,
        "id": "ad49291da3a819ea"
      },
      "source": [
        "### 1b: Data Preprocessing\n",
        "- With the data downloaded, it's time to preprocess it. Start by normalizing the images so that they all have pixel values in the range [0, 1].\n",
        "- Next, convert the labels to one-hot encoded vectors.\n",
        "- Finally, split the training set into training and validation sets. Use 80% of the training set for training and the remaining 20% for validation."
      ]
    },
    {
      "cell_type": "code",
      "execution_count": 48,
      "id": "b18c10172fa72d0c",
      "metadata": {
        "id": "b18c10172fa72d0c",
        "outputId": "9f1a71eb-fc66-4f2d-8687-37fb975218f6",
        "colab": {
          "base_uri": "https://localhost:8080/"
        }
      },
      "outputs": [
        {
          "output_type": "stream",
          "name": "stdout",
          "text": [
            "x train  (40000, 32, 32, 3)\n",
            "y train (40000, 100)\n",
            "x test  (10000, 32, 32, 3)\n",
            "y test  (10000, 100)\n",
            "x_test shape: (10000, 32, 32, 3)\n",
            "y_test shape: (10000, 100)\n"
          ]
        }
      ],
      "source": [
        "# Your Code Here\n",
        "from sklearn.model_selection import train_test_split\n",
        "from tensorflow.keras.utils import to_categorical\n",
        "\n",
        "\n",
        "x_train_normalized = x_t.astype('float32') / 255.0\n",
        "x_test_normalized = x_test.astype('float32') / 255.0\n",
        "\n",
        "# 2. One-hot encode labels\n",
        "y_t_one_hot = to_categorical(y_t,len(class_names))\n",
        "y_test_one_hot = to_categorical(y_test, len(class_names))\n",
        "\n",
        "\n",
        "\n",
        "# 3. Split the data into training and validation sets\n",
        "x_train, x_val, y_train, y_val = train_test_split(x_train_normalized, y_t_one_hot, test_size=0.2, random_state=42)\n",
        "\n",
        "print(\"x train \" , x_train.shape) # cotains dimensions of image\n",
        "print(\"y train\" ,y_train.shape)\n",
        "print(\"x test \", x_val.shape)\n",
        "print(\"y test \", y_val.shape)\n",
        "\n",
        "print(\"x_test normalized shape:\", x_test_normalized.shape)  # Should be (10000, 32, 32, 3)\n",
        "print(\"y_test one hot shape:\", y_test_one_hot.shape)\n"
      ]
    },
    {
      "cell_type": "markdown",
      "id": "5993757f08c89db7",
      "metadata": {
        "collapsed": false,
        "id": "5993757f08c89db7"
      },
      "source": [
        "## Task 2: Model Development (Complete or Incomplete)\n",
        "### Task 2a: Create a Baseline CNN Model\n",
        "- Design a CNN architecture. Your architecture should use convolutional layers, max pooling layers, and dense layers. You can use any number of layers, and you can experiment with different numbers of filters, filter sizes, strides, padding, etc. The design doesn't need to be perfect, but it should be unique to you.\n",
        "- Print out the model summary."
      ]
    },
    {
      "cell_type": "code",
      "execution_count": 53,
      "id": "c9edafdaf887b8d5",
      "metadata": {
        "id": "c9edafdaf887b8d5",
        "outputId": "a62d5cb6-ce67-4587-a3af-63e81b5c6a62",
        "colab": {
          "base_uri": "https://localhost:8080/",
          "height": 504
        }
      },
      "outputs": [
        {
          "output_type": "stream",
          "name": "stderr",
          "text": [
            "/usr/local/lib/python3.11/dist-packages/keras/src/layers/convolutional/base_conv.py:107: UserWarning: Do not pass an `input_shape`/`input_dim` argument to a layer. When using Sequential models, prefer using an `Input(shape)` object as the first layer in the model instead.\n",
            "  super().__init__(activity_regularizer=activity_regularizer, **kwargs)\n"
          ]
        },
        {
          "output_type": "display_data",
          "data": {
            "text/plain": [
              "\u001b[1mModel: \"sequential_3\"\u001b[0m\n"
            ],
            "text/html": [
              "<pre style=\"white-space:pre;overflow-x:auto;line-height:normal;font-family:Menlo,'DejaVu Sans Mono',consolas,'Courier New',monospace\"><span style=\"font-weight: bold\">Model: \"sequential_3\"</span>\n",
              "</pre>\n"
            ]
          },
          "metadata": {}
        },
        {
          "output_type": "display_data",
          "data": {
            "text/plain": [
              "┏━━━━━━━━━━━━━━━━━━━━━━━━━━━━━━━━━━━━━━┳━━━━━━━━━━━━━━━━━━━━━━━━━━━━━┳━━━━━━━━━━━━━━━━━┓\n",
              "┃\u001b[1m \u001b[0m\u001b[1mLayer (type)                        \u001b[0m\u001b[1m \u001b[0m┃\u001b[1m \u001b[0m\u001b[1mOutput Shape               \u001b[0m\u001b[1m \u001b[0m┃\u001b[1m \u001b[0m\u001b[1m        Param #\u001b[0m\u001b[1m \u001b[0m┃\n",
              "┡━━━━━━━━━━━━━━━━━━━━━━━━━━━━━━━━━━━━━━╇━━━━━━━━━━━━━━━━━━━━━━━━━━━━━╇━━━━━━━━━━━━━━━━━┩\n",
              "│ conv2d_9 (\u001b[38;5;33mConv2D\u001b[0m)                    │ (\u001b[38;5;45mNone\u001b[0m, \u001b[38;5;34m32\u001b[0m, \u001b[38;5;34m32\u001b[0m, \u001b[38;5;34m32\u001b[0m)          │             \u001b[38;5;34m896\u001b[0m │\n",
              "├──────────────────────────────────────┼─────────────────────────────┼─────────────────┤\n",
              "│ max_pooling2d_9 (\u001b[38;5;33mMaxPooling2D\u001b[0m)       │ (\u001b[38;5;45mNone\u001b[0m, \u001b[38;5;34m16\u001b[0m, \u001b[38;5;34m16\u001b[0m, \u001b[38;5;34m32\u001b[0m)          │               \u001b[38;5;34m0\u001b[0m │\n",
              "├──────────────────────────────────────┼─────────────────────────────┼─────────────────┤\n",
              "│ conv2d_10 (\u001b[38;5;33mConv2D\u001b[0m)                   │ (\u001b[38;5;45mNone\u001b[0m, \u001b[38;5;34m16\u001b[0m, \u001b[38;5;34m16\u001b[0m, \u001b[38;5;34m64\u001b[0m)          │          \u001b[38;5;34m18,496\u001b[0m │\n",
              "├──────────────────────────────────────┼─────────────────────────────┼─────────────────┤\n",
              "│ max_pooling2d_10 (\u001b[38;5;33mMaxPooling2D\u001b[0m)      │ (\u001b[38;5;45mNone\u001b[0m, \u001b[38;5;34m8\u001b[0m, \u001b[38;5;34m8\u001b[0m, \u001b[38;5;34m64\u001b[0m)            │               \u001b[38;5;34m0\u001b[0m │\n",
              "├──────────────────────────────────────┼─────────────────────────────┼─────────────────┤\n",
              "│ conv2d_11 (\u001b[38;5;33mConv2D\u001b[0m)                   │ (\u001b[38;5;45mNone\u001b[0m, \u001b[38;5;34m8\u001b[0m, \u001b[38;5;34m8\u001b[0m, \u001b[38;5;34m128\u001b[0m)           │          \u001b[38;5;34m73,856\u001b[0m │\n",
              "├──────────────────────────────────────┼─────────────────────────────┼─────────────────┤\n",
              "│ max_pooling2d_11 (\u001b[38;5;33mMaxPooling2D\u001b[0m)      │ (\u001b[38;5;45mNone\u001b[0m, \u001b[38;5;34m4\u001b[0m, \u001b[38;5;34m4\u001b[0m, \u001b[38;5;34m128\u001b[0m)           │               \u001b[38;5;34m0\u001b[0m │\n",
              "├──────────────────────────────────────┼─────────────────────────────┼─────────────────┤\n",
              "│ flatten_3 (\u001b[38;5;33mFlatten\u001b[0m)                  │ (\u001b[38;5;45mNone\u001b[0m, \u001b[38;5;34m2048\u001b[0m)                │               \u001b[38;5;34m0\u001b[0m │\n",
              "├──────────────────────────────────────┼─────────────────────────────┼─────────────────┤\n",
              "│ dense_6 (\u001b[38;5;33mDense\u001b[0m)                      │ (\u001b[38;5;45mNone\u001b[0m, \u001b[38;5;34m512\u001b[0m)                 │       \u001b[38;5;34m1,049,088\u001b[0m │\n",
              "├──────────────────────────────────────┼─────────────────────────────┼─────────────────┤\n",
              "│ dropout_3 (\u001b[38;5;33mDropout\u001b[0m)                  │ (\u001b[38;5;45mNone\u001b[0m, \u001b[38;5;34m512\u001b[0m)                 │               \u001b[38;5;34m0\u001b[0m │\n",
              "├──────────────────────────────────────┼─────────────────────────────┼─────────────────┤\n",
              "│ dense_7 (\u001b[38;5;33mDense\u001b[0m)                      │ (\u001b[38;5;45mNone\u001b[0m, \u001b[38;5;34m100\u001b[0m)                 │          \u001b[38;5;34m51,300\u001b[0m │\n",
              "└──────────────────────────────────────┴─────────────────────────────┴─────────────────┘\n"
            ],
            "text/html": [
              "<pre style=\"white-space:pre;overflow-x:auto;line-height:normal;font-family:Menlo,'DejaVu Sans Mono',consolas,'Courier New',monospace\">┏━━━━━━━━━━━━━━━━━━━━━━━━━━━━━━━━━━━━━━┳━━━━━━━━━━━━━━━━━━━━━━━━━━━━━┳━━━━━━━━━━━━━━━━━┓\n",
              "┃<span style=\"font-weight: bold\"> Layer (type)                         </span>┃<span style=\"font-weight: bold\"> Output Shape                </span>┃<span style=\"font-weight: bold\">         Param # </span>┃\n",
              "┡━━━━━━━━━━━━━━━━━━━━━━━━━━━━━━━━━━━━━━╇━━━━━━━━━━━━━━━━━━━━━━━━━━━━━╇━━━━━━━━━━━━━━━━━┩\n",
              "│ conv2d_9 (<span style=\"color: #0087ff; text-decoration-color: #0087ff\">Conv2D</span>)                    │ (<span style=\"color: #00d7ff; text-decoration-color: #00d7ff\">None</span>, <span style=\"color: #00af00; text-decoration-color: #00af00\">32</span>, <span style=\"color: #00af00; text-decoration-color: #00af00\">32</span>, <span style=\"color: #00af00; text-decoration-color: #00af00\">32</span>)          │             <span style=\"color: #00af00; text-decoration-color: #00af00\">896</span> │\n",
              "├──────────────────────────────────────┼─────────────────────────────┼─────────────────┤\n",
              "│ max_pooling2d_9 (<span style=\"color: #0087ff; text-decoration-color: #0087ff\">MaxPooling2D</span>)       │ (<span style=\"color: #00d7ff; text-decoration-color: #00d7ff\">None</span>, <span style=\"color: #00af00; text-decoration-color: #00af00\">16</span>, <span style=\"color: #00af00; text-decoration-color: #00af00\">16</span>, <span style=\"color: #00af00; text-decoration-color: #00af00\">32</span>)          │               <span style=\"color: #00af00; text-decoration-color: #00af00\">0</span> │\n",
              "├──────────────────────────────────────┼─────────────────────────────┼─────────────────┤\n",
              "│ conv2d_10 (<span style=\"color: #0087ff; text-decoration-color: #0087ff\">Conv2D</span>)                   │ (<span style=\"color: #00d7ff; text-decoration-color: #00d7ff\">None</span>, <span style=\"color: #00af00; text-decoration-color: #00af00\">16</span>, <span style=\"color: #00af00; text-decoration-color: #00af00\">16</span>, <span style=\"color: #00af00; text-decoration-color: #00af00\">64</span>)          │          <span style=\"color: #00af00; text-decoration-color: #00af00\">18,496</span> │\n",
              "├──────────────────────────────────────┼─────────────────────────────┼─────────────────┤\n",
              "│ max_pooling2d_10 (<span style=\"color: #0087ff; text-decoration-color: #0087ff\">MaxPooling2D</span>)      │ (<span style=\"color: #00d7ff; text-decoration-color: #00d7ff\">None</span>, <span style=\"color: #00af00; text-decoration-color: #00af00\">8</span>, <span style=\"color: #00af00; text-decoration-color: #00af00\">8</span>, <span style=\"color: #00af00; text-decoration-color: #00af00\">64</span>)            │               <span style=\"color: #00af00; text-decoration-color: #00af00\">0</span> │\n",
              "├──────────────────────────────────────┼─────────────────────────────┼─────────────────┤\n",
              "│ conv2d_11 (<span style=\"color: #0087ff; text-decoration-color: #0087ff\">Conv2D</span>)                   │ (<span style=\"color: #00d7ff; text-decoration-color: #00d7ff\">None</span>, <span style=\"color: #00af00; text-decoration-color: #00af00\">8</span>, <span style=\"color: #00af00; text-decoration-color: #00af00\">8</span>, <span style=\"color: #00af00; text-decoration-color: #00af00\">128</span>)           │          <span style=\"color: #00af00; text-decoration-color: #00af00\">73,856</span> │\n",
              "├──────────────────────────────────────┼─────────────────────────────┼─────────────────┤\n",
              "│ max_pooling2d_11 (<span style=\"color: #0087ff; text-decoration-color: #0087ff\">MaxPooling2D</span>)      │ (<span style=\"color: #00d7ff; text-decoration-color: #00d7ff\">None</span>, <span style=\"color: #00af00; text-decoration-color: #00af00\">4</span>, <span style=\"color: #00af00; text-decoration-color: #00af00\">4</span>, <span style=\"color: #00af00; text-decoration-color: #00af00\">128</span>)           │               <span style=\"color: #00af00; text-decoration-color: #00af00\">0</span> │\n",
              "├──────────────────────────────────────┼─────────────────────────────┼─────────────────┤\n",
              "│ flatten_3 (<span style=\"color: #0087ff; text-decoration-color: #0087ff\">Flatten</span>)                  │ (<span style=\"color: #00d7ff; text-decoration-color: #00d7ff\">None</span>, <span style=\"color: #00af00; text-decoration-color: #00af00\">2048</span>)                │               <span style=\"color: #00af00; text-decoration-color: #00af00\">0</span> │\n",
              "├──────────────────────────────────────┼─────────────────────────────┼─────────────────┤\n",
              "│ dense_6 (<span style=\"color: #0087ff; text-decoration-color: #0087ff\">Dense</span>)                      │ (<span style=\"color: #00d7ff; text-decoration-color: #00d7ff\">None</span>, <span style=\"color: #00af00; text-decoration-color: #00af00\">512</span>)                 │       <span style=\"color: #00af00; text-decoration-color: #00af00\">1,049,088</span> │\n",
              "├──────────────────────────────────────┼─────────────────────────────┼─────────────────┤\n",
              "│ dropout_3 (<span style=\"color: #0087ff; text-decoration-color: #0087ff\">Dropout</span>)                  │ (<span style=\"color: #00d7ff; text-decoration-color: #00d7ff\">None</span>, <span style=\"color: #00af00; text-decoration-color: #00af00\">512</span>)                 │               <span style=\"color: #00af00; text-decoration-color: #00af00\">0</span> │\n",
              "├──────────────────────────────────────┼─────────────────────────────┼─────────────────┤\n",
              "│ dense_7 (<span style=\"color: #0087ff; text-decoration-color: #0087ff\">Dense</span>)                      │ (<span style=\"color: #00d7ff; text-decoration-color: #00d7ff\">None</span>, <span style=\"color: #00af00; text-decoration-color: #00af00\">100</span>)                 │          <span style=\"color: #00af00; text-decoration-color: #00af00\">51,300</span> │\n",
              "└──────────────────────────────────────┴─────────────────────────────┴─────────────────┘\n",
              "</pre>\n"
            ]
          },
          "metadata": {}
        },
        {
          "output_type": "display_data",
          "data": {
            "text/plain": [
              "\u001b[1m Total params: \u001b[0m\u001b[38;5;34m1,193,636\u001b[0m (4.55 MB)\n"
            ],
            "text/html": [
              "<pre style=\"white-space:pre;overflow-x:auto;line-height:normal;font-family:Menlo,'DejaVu Sans Mono',consolas,'Courier New',monospace\"><span style=\"font-weight: bold\"> Total params: </span><span style=\"color: #00af00; text-decoration-color: #00af00\">1,193,636</span> (4.55 MB)\n",
              "</pre>\n"
            ]
          },
          "metadata": {}
        },
        {
          "output_type": "display_data",
          "data": {
            "text/plain": [
              "\u001b[1m Trainable params: \u001b[0m\u001b[38;5;34m1,193,636\u001b[0m (4.55 MB)\n"
            ],
            "text/html": [
              "<pre style=\"white-space:pre;overflow-x:auto;line-height:normal;font-family:Menlo,'DejaVu Sans Mono',consolas,'Courier New',monospace\"><span style=\"font-weight: bold\"> Trainable params: </span><span style=\"color: #00af00; text-decoration-color: #00af00\">1,193,636</span> (4.55 MB)\n",
              "</pre>\n"
            ]
          },
          "metadata": {}
        },
        {
          "output_type": "display_data",
          "data": {
            "text/plain": [
              "\u001b[1m Non-trainable params: \u001b[0m\u001b[38;5;34m0\u001b[0m (0.00 B)\n"
            ],
            "text/html": [
              "<pre style=\"white-space:pre;overflow-x:auto;line-height:normal;font-family:Menlo,'DejaVu Sans Mono',consolas,'Courier New',monospace\"><span style=\"font-weight: bold\"> Non-trainable params: </span><span style=\"color: #00af00; text-decoration-color: #00af00\">0</span> (0.00 B)\n",
              "</pre>\n"
            ]
          },
          "metadata": {}
        }
      ],
      "source": [
        "import tensorflow as tf\n",
        "from tensorflow.keras import layers, models\n",
        "\n",
        "# Define the CNN model\n",
        "model = models.Sequential()\n",
        "\n",
        "# 1st Convolutional Block\n",
        "model.add(layers.Conv2D(32, (3, 3), activation='relu', padding='same', input_shape=(32, 32, 3)))\n",
        "model.add(layers.MaxPooling2D((2, 2)))\n",
        "\n",
        "# 2nd Convolutional Block\n",
        "model.add(layers.Conv2D(64, (3, 3), activation='relu', padding='same'))\n",
        "model.add(layers.MaxPooling2D((2, 2)))\n",
        "\n",
        "# 3rd Convolutional Block\n",
        "model.add(layers.Conv2D(128, (3, 3), activation='relu', padding='same'))\n",
        "model.add(layers.MaxPooling2D((2, 2)))\n",
        "\n",
        "# Flatten the 3D output to 1D for Dense layers\n",
        "model.add(layers.Flatten())\n",
        "\n",
        "# 1st Dense Layer\n",
        "model.add(layers.Dense(512, activation='relu'))\n",
        "\n",
        "# Dropout layer to prevent overfitting\n",
        "model.add(layers.Dropout(0.5))\n",
        "\n",
        "# 2nd Dense Layer (Output layer)\n",
        "model.add(layers.Dense(100, activation='softmax'))  # Assuming 10 classes for classification\n",
        "\n",
        "# Print the model summary\n",
        "model.summary()"
      ]
    },
    {
      "cell_type": "markdown",
      "id": "546324c007c73db5",
      "metadata": {
        "collapsed": false,
        "id": "546324c007c73db5"
      },
      "source": [
        "### Task 2b: Compile the model\n",
        "\n",
        "- Select an appropriate loss function and optimizer for your model. These can be ones we have looked at already, or they can be different.\n",
        "- Briefly explain your choices (one or two sentences each).\n",
        "- <b>Loss function:</b> ____categorical cross entropy used for multi classification & onehot__\n",
        "- <b>Optimizer:</b> ___adam provides adjusted learning rate___"
      ]
    },
    {
      "cell_type": "code",
      "execution_count": 54,
      "id": "ab39f4ba69d684e9",
      "metadata": {
        "id": "ab39f4ba69d684e9"
      },
      "outputs": [],
      "source": [
        "# Your Code Here\n",
        "#adam provides adjusted learning rate\n",
        "# loss function categorical cross entropy used for multi classification & onehot\n",
        "model.compile(optimizer='adam',\n",
        "              loss='categorical_crossentropy',\n",
        "              metrics=['accuracy'])"
      ]
    },
    {
      "cell_type": "markdown",
      "id": "653fba928413b9f6",
      "metadata": {
        "collapsed": false,
        "id": "653fba928413b9f6"
      },
      "source": [
        "## Task 3: Model Training and Evaluation (Complete or Incomplete)\n",
        "### Task 3a: Train the Model\n",
        "\n",
        "- Train your model for an appropriate number of epochs. Explain your choice of the number of epochs used - you can change this number before submitting your assignment.\n",
        "- Use a batch size of 32.\n",
        "- Use the validation set for validation."
      ]
    },
    {
      "cell_type": "code",
      "execution_count": 55,
      "id": "9de74f274ad08546",
      "metadata": {
        "id": "9de74f274ad08546",
        "outputId": "bb7d4c31-7999-434d-f433-f96e6f9535ff",
        "colab": {
          "base_uri": "https://localhost:8080/"
        }
      },
      "outputs": [
        {
          "output_type": "stream",
          "name": "stdout",
          "text": [
            "Epoch 1/20\n",
            "1250/1250 - 110s - 88ms/step - accuracy: 0.0925 - loss: 3.9617 - val_accuracy: 0.1961 - val_loss: 3.3304\n",
            "Epoch 2/20\n",
            "1250/1250 - 138s - 110ms/step - accuracy: 0.2104 - loss: 3.2583 - val_accuracy: 0.2809 - val_loss: 2.9095\n",
            "Epoch 3/20\n",
            "1250/1250 - 142s - 114ms/step - accuracy: 0.2777 - loss: 2.8954 - val_accuracy: 0.3220 - val_loss: 2.6907\n",
            "Epoch 4/20\n",
            "1250/1250 - 140s - 112ms/step - accuracy: 0.3251 - loss: 2.6539 - val_accuracy: 0.3605 - val_loss: 2.5420\n",
            "Epoch 5/20\n",
            "1250/1250 - 141s - 113ms/step - accuracy: 0.3636 - loss: 2.4610 - val_accuracy: 0.3685 - val_loss: 2.4762\n",
            "Epoch 6/20\n",
            "1250/1250 - 143s - 115ms/step - accuracy: 0.3966 - loss: 2.2942 - val_accuracy: 0.3888 - val_loss: 2.3919\n",
            "Epoch 7/20\n",
            "1250/1250 - 144s - 115ms/step - accuracy: 0.4252 - loss: 2.1566 - val_accuracy: 0.3928 - val_loss: 2.4012\n",
            "Epoch 8/20\n",
            "1250/1250 - 137s - 110ms/step - accuracy: 0.4556 - loss: 2.0214 - val_accuracy: 0.4012 - val_loss: 2.3378\n",
            "Epoch 9/20\n",
            "1250/1250 - 146s - 117ms/step - accuracy: 0.4855 - loss: 1.8830 - val_accuracy: 0.4131 - val_loss: 2.3385\n",
            "Epoch 10/20\n",
            "1250/1250 - 101s - 81ms/step - accuracy: 0.5045 - loss: 1.7837 - val_accuracy: 0.4045 - val_loss: 2.3716\n",
            "Epoch 11/20\n",
            "1250/1250 - 147s - 117ms/step - accuracy: 0.5344 - loss: 1.6678 - val_accuracy: 0.4114 - val_loss: 2.3973\n",
            "Epoch 12/20\n",
            "1250/1250 - 140s - 112ms/step - accuracy: 0.5567 - loss: 1.5637 - val_accuracy: 0.4058 - val_loss: 2.4832\n",
            "Epoch 13/20\n",
            "1250/1250 - 139s - 111ms/step - accuracy: 0.5797 - loss: 1.4711 - val_accuracy: 0.4130 - val_loss: 2.4597\n",
            "Epoch 14/20\n",
            "1250/1250 - 141s - 113ms/step - accuracy: 0.5999 - loss: 1.3856 - val_accuracy: 0.4039 - val_loss: 2.5541\n",
            "Epoch 15/20\n",
            "1250/1250 - 144s - 115ms/step - accuracy: 0.6220 - loss: 1.2972 - val_accuracy: 0.4078 - val_loss: 2.6030\n",
            "Epoch 16/20\n",
            "1250/1250 - 104s - 83ms/step - accuracy: 0.6353 - loss: 1.2296 - val_accuracy: 0.4067 - val_loss: 2.6358\n",
            "Epoch 17/20\n",
            "1250/1250 - 144s - 115ms/step - accuracy: 0.6538 - loss: 1.1666 - val_accuracy: 0.4069 - val_loss: 2.7580\n",
            "Epoch 18/20\n",
            "1250/1250 - 136s - 109ms/step - accuracy: 0.6698 - loss: 1.1076 - val_accuracy: 0.4016 - val_loss: 2.7594\n",
            "Epoch 19/20\n",
            "1250/1250 - 145s - 116ms/step - accuracy: 0.6824 - loss: 1.0458 - val_accuracy: 0.4065 - val_loss: 2.9292\n",
            "Epoch 20/20\n",
            "1250/1250 - 139s - 111ms/step - accuracy: 0.6984 - loss: 1.0004 - val_accuracy: 0.3999 - val_loss: 2.9313\n"
          ]
        }
      ],
      "source": [
        "# Your Code Here\n",
        "history = model.fit(\n",
        "    x_train, y_train,\n",
        "    epochs=20,\n",
        "    batch_size=32,\n",
        "    validation_data=(x_val, y_val),\n",
        "    verbose=2\n",
        ")\n"
      ]
    },
    {
      "cell_type": "markdown",
      "id": "b48615c26b99d2e9",
      "metadata": {
        "collapsed": false,
        "id": "b48615c26b99d2e9"
      },
      "source": [
        "### Task 3b: Accuracy and other relevant metrics on the test set\n",
        "\n",
        "- Report the accuracy of your model on the test set.\n",
        "- While accuracy is a good metric, there are many other ways to numerically evaluate a model. Report at least one other metric, and explain what it measures and how it is calculated.\n",
        "\n",
        "- <b>Accuracy:</b> __0.40____\n",
        "- <b>Other metric:</b> ____F1__\n",
        "- <b>Reason for selection:</b> ___better measurement for incorrectly classified cases__\n",
        "- <b>Value of metric:</b> __0.0002____\n",
        "- <b>Interpretation of metric value:</b> _data is not classified correctly\n",
        " & imbalance values_____"
      ]
    },
    {
      "cell_type": "code",
      "execution_count": 58,
      "id": "f670665fda92fb0e",
      "metadata": {
        "ExecuteTime": {
          "end_time": "2024-01-26T17:49:39.016880Z",
          "start_time": "2024-01-26T17:49:39.012100Z"
        },
        "id": "f670665fda92fb0e",
        "outputId": "fc5f9dc1-baa5-415c-ce26-58c3b9313843",
        "colab": {
          "base_uri": "https://localhost:8080/"
        }
      },
      "outputs": [
        {
          "output_type": "stream",
          "name": "stdout",
          "text": [
            "Test Loss: 2.7011\n",
            "Test Accuracy: 0.4031\n"
          ]
        }
      ],
      "source": [
        "# Your Code Here\n",
        "\n",
        "test_loss, test_accuracy = model.evaluate(x_val, y_val, verbose=0)\n",
        "print(f\"Test Loss: {test_loss:.4f}\")\n",
        "print(f\"Test Accuracy: {test_accuracy:.4f}\")"
      ]
    },
    {
      "cell_type": "code",
      "source": [
        "from sklearn.metrics import f1_score\n",
        "import numpy as np\n",
        "\n",
        "# Get predictions from the model\n",
        "y_pred = model.predict(x_val)\n",
        "\n",
        "# Convert the predictions and true labels to one-hot encoding format\n",
        "y_pred_classes = np.argmax(y_pred, axis=1)  # Get the class with the highest probability\n",
        "y_true_classes = np.argmax(y_val, axis=1)  # Get the actual class labels\n",
        "\n",
        "# Calculate F1-Score\n",
        "f1 = f1_score(y_true_classes, y_pred_classes, average='weighted')  # 'weighted' handles class imbalance\n",
        "print(f\"F1-Score: {f1:.4f}\")\n"
      ],
      "metadata": {
        "id": "a_3VvC9Hjl1u",
        "outputId": "6c41afa1-3800-4c6a-c660-d88801595c3e",
        "colab": {
          "base_uri": "https://localhost:8080/"
        }
      },
      "id": "a_3VvC9Hjl1u",
      "execution_count": 70,
      "outputs": [
        {
          "output_type": "stream",
          "name": "stdout",
          "text": [
            "\u001b[1m313/313\u001b[0m \u001b[32m━━━━━━━━━━━━━━━━━━━━\u001b[0m\u001b[37m\u001b[0m \u001b[1m4s\u001b[0m 13ms/step\n",
            "F1-Score: 0.0002\n"
          ]
        }
      ]
    },
    {
      "cell_type": "markdown",
      "id": "58d2d836d4e8ce99",
      "metadata": {
        "collapsed": false,
        "id": "58d2d836d4e8ce99"
      },
      "source": [
        "### Task 3c: Visualize the model's learning\n",
        "\n",
        "- Plot the training accuracy and validation accuracy with respect to epochs.\n",
        "- Select an image that the model correctly classified in the test set, and an image that the model incorrectly classified in the test set. Plot the images and report the model's classification probabilities for each.\n",
        "- Briefly discuss the results. What do the plots show? Do the results make sense? What do the classification probabilities indicate?"
      ]
    },
    {
      "cell_type": "code",
      "execution_count": 59,
      "id": "c5b214475a496ca5",
      "metadata": {
        "ExecuteTime": {
          "end_time": "2024-01-26T17:50:59.733968Z",
          "start_time": "2024-01-26T17:50:59.730635Z"
        },
        "id": "c5b214475a496ca5",
        "outputId": "465b8016-7713-4fb4-ee5d-c51fc62793f4",
        "colab": {
          "base_uri": "https://localhost:8080/",
          "height": 564
        }
      },
      "outputs": [
        {
          "output_type": "display_data",
          "data": {
            "text/plain": [
              "<Figure size 1000x600 with 1 Axes>"
            ],
            "image/png": "[encoded data removed]"
          },
          "metadata": {}
        }
      ],
      "source": [
        "# Your Code Here\n",
        "\n",
        "import matplotlib.pyplot as plt\n",
        "\n",
        "\n",
        "train_accuracy = history.history['accuracy']\n",
        "val_accuracy = history.history['val_accuracy']\n",
        "epochs = range(1, len(train_accuracy) + 1)\n",
        "\n",
        "plt.figure(figsize=(10, 6))\n",
        "plt.plot(epochs, train_accuracy, label='Training Accuracy')\n",
        "plt.plot(epochs, val_accuracy, label='Validation Accuracy')\n",
        "plt.title('Training and Validation Accuracy vs. Epochs')\n",
        "plt.xlabel('Epochs')\n",
        "plt.ylabel('Accuracy')\n",
        "plt.legend()\n",
        "plt.grid(True)\n",
        "plt.show()\n"
      ]
    },
    {
      "cell_type": "markdown",
      "source": [
        "\n",
        "*This plot indicates the overfitting of data (as with Epoch both training & validation values increases but training accuracy is much higher than validation accuracy)*\n",
        "\n",
        "\n",
        "\n"
      ],
      "metadata": {
        "id": "afhOU8qfYLJr"
      },
      "id": "afhOU8qfYLJr"
    },
    {
      "cell_type": "code",
      "source": [
        "import numpy as np\n",
        "import matplotlib.pyplot as plt\n",
        "\n",
        "y_pred = model.predict(x_val)\n",
        "\n",
        "\n",
        "y_pred_classes = np.argmax(y_pred, axis=1)\n",
        "y_true_classes = np.argmax(y_val, axis=1)\n",
        "\n",
        "\n",
        "correct_indices = np.where(y_pred_classes == y_true_classes)[0]\n",
        "incorrect_indices = np.where(y_pred_classes != y_true_classes)[0]\n",
        "\n",
        "\n",
        "correct_idx = correct_indices[0]  # First correct image\n",
        "incorrect_idx = incorrect_indices[0]  # First incorrect image\n",
        "\n",
        "\n",
        "plt.figure(figsize=(12, 6))\n",
        "\n",
        "plt.subplot(1, 2, 1)\n",
        "plt.imshow(x_val[correct_idx])\n",
        "plt.title(f\"Correctly Classified\\nTrue: {class_names[y_true_classes[correct_idx]]}, Pred: {class_names[y_pred_classes[correct_idx]]}\")\n",
        "plt.axis('off')\n",
        "\n",
        "# Plot the incorrect image\n",
        "plt.subplot(1, 2, 2)\n",
        "plt.imshow(x_val[incorrect_idx])\n",
        "plt.title(f\"Incorrectly Classified\\nTrue: {class_names[y_true_classes[incorrect_idx]]}, Pred: {class_names[y_pred_classes[incorrect_idx]]}\")\n",
        "plt.axis('off')\n",
        "\n",
        "plt.show()\n"
      ],
      "metadata": {
        "id": "wnaJsgKAXXCM",
        "outputId": "4a3432c7-d382-40f8-97e1-e60a01bccd47",
        "colab": {
          "base_uri": "https://localhost:8080/",
          "height": 519
        }
      },
      "id": "wnaJsgKAXXCM",
      "execution_count": 71,
      "outputs": [
        {
          "output_type": "stream",
          "name": "stdout",
          "text": [
            "\u001b[1m313/313\u001b[0m \u001b[32m━━━━━━━━━━━━━━━━━━━━\u001b[0m\u001b[37m\u001b[0m \u001b[1m3s\u001b[0m 10ms/step\n"
          ]
        },
        {
          "output_type": "display_data",
          "data": {
            "text/plain": [
              "<Figure size 1200x600 with 2 Axes>"
            ],
            "image/png": "[encoded data removed]"
          },
          "metadata": {}
        }
      ]
    },
    {
      "cell_type": "code",
      "source": [
        "correct_prob = y_pred[correct_idx]\n",
        "incorrect_prob = y_pred[incorrect_idx]\n",
        "\n",
        "\n",
        "print(\"Correctly Classified Image Probabilities:\")\n",
        "for i, (cls, prob) in enumerate(zip(class_names, correct_prob)):\n",
        "    print(f\"{cls}: {prob:.4f}\")\n",
        "\n",
        "\n",
        "print(\"\\nIncorrectly Classified Image Probabilities:\")\n",
        "for i, (cls, prob) in enumerate(zip(class_names, incorrect_prob)):\n",
        "    print(f\"{cls}: {prob:.4f}\")\n"
      ],
      "metadata": {
        "id": "wmYmy44RX1Gc",
        "outputId": "a6b31e76-e5aa-499e-bdd0-4963187331fb",
        "colab": {
          "base_uri": "https://localhost:8080/"
        }
      },
      "id": "wmYmy44RX1Gc",
      "execution_count": 72,
      "outputs": [
        {
          "output_type": "stream",
          "name": "stdout",
          "text": [
            "Correctly Classified Image Probabilities:\n",
            "apple: 0.0081\n",
            "aquarium_fish: 0.0115\n",
            "baby: 0.0071\n",
            "bear: 0.0114\n",
            "beaver: 0.0111\n",
            "bed: 0.0136\n",
            "bee: 0.0098\n",
            "beetle: 0.0072\n",
            "bicycle: 0.0131\n",
            "bottle: 0.0083\n",
            "bowl: 0.0105\n",
            "boy: 0.0081\n",
            "bridge: 0.0083\n",
            "bus: 0.0087\n",
            "butterfly: 0.0060\n",
            "camel: 0.0065\n",
            "can: 0.0106\n",
            "castle: 0.0122\n",
            "caterpillar: 0.0128\n",
            "cattle: 0.0118\n",
            "chair: 0.0110\n",
            "chimpanzee: 0.0101\n",
            "clock: 0.0180\n",
            "cloud: 0.0158\n",
            "cockroach: 0.0086\n",
            "couch: 0.0096\n",
            "crab: 0.0114\n",
            "crocodile: 0.0090\n",
            "cup: 0.0104\n",
            "dinosaur: 0.0115\n",
            "dolphin: 0.0203\n",
            "elephant: 0.0115\n",
            "flatfish: 0.0072\n",
            "forest: 0.0092\n",
            "fox: 0.0135\n",
            "girl: 0.0170\n",
            "hamster: 0.0072\n",
            "house: 0.0073\n",
            "kangaroo: 0.0086\n",
            "keyboard: 0.0131\n",
            "lamp: 0.0113\n",
            "lawn_mower: 0.0085\n",
            "leopard: 0.0089\n",
            "lion: 0.0063\n",
            "lizard: 0.0082\n",
            "lobster: 0.0097\n",
            "man: 0.0106\n",
            "maple_tree: 0.0101\n",
            "motorcycle: 0.0101\n",
            "mountain: 0.0144\n",
            "mouse: 0.0080\n",
            "mushroom: 0.0047\n",
            "oak_tree: 0.0108\n",
            "orange: 0.0107\n",
            "orchid: 0.0049\n",
            "otter: 0.0109\n",
            "palm_tree: 0.0072\n",
            "pear: 0.0093\n",
            "pickup_truck: 0.0117\n",
            "pine_tree: 0.0121\n",
            "plain: 0.0060\n",
            "plate: 0.0082\n",
            "poppy: 0.0100\n",
            "porcupine: 0.0081\n",
            "possum: 0.0087\n",
            "rabbit: 0.0050\n",
            "raccoon: 0.0052\n",
            "ray: 0.0073\n",
            "road: 0.0071\n",
            "rocket: 0.0066\n",
            "rose: 0.0087\n",
            "sea: 0.0111\n",
            "seal: 0.0112\n",
            "shark: 0.0085\n",
            "shrew: 0.0116\n",
            "skunk: 0.0087\n",
            "skyscraper: 0.0175\n",
            "snail: 0.0127\n",
            "snake: 0.0093\n",
            "spider: 0.0057\n",
            "squirrel: 0.0133\n",
            "streetcar: 0.0081\n",
            "sunflower: 0.0123\n",
            "sweet_pepper: 0.0130\n",
            "table: 0.0087\n",
            "tank: 0.0059\n",
            "telephone: 0.0104\n",
            "television: 0.0069\n",
            "tiger: 0.0078\n",
            "tractor: 0.0070\n",
            "train: 0.0090\n",
            "trout: 0.0173\n",
            "tulip: 0.0100\n",
            "turtle: 0.0111\n",
            "wardrobe: 0.0116\n",
            "whale: 0.0111\n",
            "willow_tree: 0.0113\n",
            "wolf: 0.0111\n",
            "woman: 0.0155\n",
            "worm: 0.0062\n",
            "\n",
            "Incorrectly Classified Image Probabilities:\n",
            "apple: 0.0070\n",
            "aquarium_fish: 0.0118\n",
            "baby: 0.0059\n",
            "bear: 0.0112\n",
            "beaver: 0.0113\n",
            "bed: 0.0150\n",
            "bee: 0.0096\n",
            "beetle: 0.0059\n",
            "bicycle: 0.0143\n",
            "bottle: 0.0077\n",
            "bowl: 0.0100\n",
            "boy: 0.0072\n",
            "bridge: 0.0075\n",
            "bus: 0.0082\n",
            "butterfly: 0.0043\n",
            "camel: 0.0052\n",
            "can: 0.0108\n",
            "castle: 0.0127\n",
            "caterpillar: 0.0139\n",
            "cattle: 0.0124\n",
            "chair: 0.0112\n",
            "chimpanzee: 0.0101\n",
            "clock: 0.0225\n",
            "cloud: 0.0183\n",
            "cockroach: 0.0074\n",
            "couch: 0.0096\n",
            "crab: 0.0115\n",
            "crocodile: 0.0084\n",
            "cup: 0.0098\n",
            "dinosaur: 0.0116\n",
            "dolphin: 0.0278\n",
            "elephant: 0.0120\n",
            "flatfish: 0.0060\n",
            "forest: 0.0084\n",
            "fox: 0.0155\n",
            "girl: 0.0217\n",
            "hamster: 0.0063\n",
            "house: 0.0064\n",
            "kangaroo: 0.0080\n",
            "keyboard: 0.0144\n",
            "lamp: 0.0120\n",
            "lawn_mower: 0.0076\n",
            "leopard: 0.0083\n",
            "lion: 0.0052\n",
            "lizard: 0.0072\n",
            "lobster: 0.0092\n",
            "man: 0.0105\n",
            "maple_tree: 0.0100\n",
            "motorcycle: 0.0096\n",
            "mountain: 0.0168\n",
            "mouse: 0.0069\n",
            "mushroom: 0.0031\n",
            "oak_tree: 0.0112\n",
            "orange: 0.0107\n",
            "orchid: 0.0035\n",
            "otter: 0.0107\n",
            "palm_tree: 0.0062\n",
            "pear: 0.0089\n",
            "pickup_truck: 0.0118\n",
            "pine_tree: 0.0129\n",
            "plain: 0.0046\n",
            "plate: 0.0071\n",
            "poppy: 0.0100\n",
            "porcupine: 0.0070\n",
            "possum: 0.0078\n",
            "rabbit: 0.0033\n",
            "raccoon: 0.0036\n",
            "ray: 0.0061\n",
            "road: 0.0059\n",
            "rocket: 0.0053\n",
            "rose: 0.0083\n",
            "sea: 0.0111\n",
            "seal: 0.0116\n",
            "shark: 0.0076\n",
            "shrew: 0.0124\n",
            "skunk: 0.0076\n",
            "skyscraper: 0.0218\n",
            "snail: 0.0139\n",
            "snake: 0.0086\n",
            "spider: 0.0042\n",
            "squirrel: 0.0150\n",
            "streetcar: 0.0070\n",
            "sunflower: 0.0133\n",
            "sweet_pepper: 0.0148\n",
            "table: 0.0080\n",
            "tank: 0.0046\n",
            "telephone: 0.0103\n",
            "television: 0.0058\n",
            "tiger: 0.0065\n",
            "tractor: 0.0054\n",
            "train: 0.0081\n",
            "trout: 0.0213\n",
            "tulip: 0.0100\n",
            "turtle: 0.0111\n",
            "wardrobe: 0.0129\n",
            "whale: 0.0116\n",
            "willow_tree: 0.0113\n",
            "wolf: 0.0107\n",
            "woman: 0.0182\n",
            "worm: 0.0049\n"
          ]
        }
      ]
    },
    {
      "cell_type": "markdown",
      "source": [
        "\n",
        "*The result shows that for each class it has avg ~0.01 confidence in correctly indentified images*\n"
      ],
      "metadata": {
        "id": "CrQIidcuYJhL"
      },
      "id": "CrQIidcuYJhL"
    },
    {
      "cell_type": "markdown",
      "id": "a648758ebea0561d",
      "metadata": {
        "collapsed": false,
        "id": "a648758ebea0561d"
      },
      "source": [
        "## Task 4: Model Enhancement (Complete or Incomplete)\n",
        "### Task 4a: Implementation of at least one advanced technique\n",
        "\n",
        "- Now it's time to improve your model. Implement at least one technique to improve your model's performance. You can use any of the techniques we have covered in class, or you can use a technique that we haven't covered. If you need inspiration, you can refer to the [Keras documentation](https://keras.io/).\n",
        "- Explain the technique you used and why you chose it.\n",
        "- If you used a technique that requires tuning, explain how you selected the values for the hyperparameters."
      ]
    },
    {
      "cell_type": "code",
      "execution_count": 89,
      "id": "f3659ac83122567f",
      "metadata": {
        "id": "f3659ac83122567f",
        "outputId": "3b6a6631-c927-439e-f027-4389769ac39e",
        "colab": {
          "base_uri": "https://localhost:8080/"
        }
      },
      "outputs": [
        {
          "output_type": "stream",
          "name": "stderr",
          "text": [
            "/usr/local/lib/python3.11/dist-packages/keras/src/layers/convolutional/base_conv.py:107: UserWarning: Do not pass an `input_shape`/`input_dim` argument to a layer. When using Sequential models, prefer using an `Input(shape)` object as the first layer in the model instead.\n",
            "  super().__init__(activity_regularizer=activity_regularizer, **kwargs)\n"
          ]
        },
        {
          "output_type": "stream",
          "name": "stdout",
          "text": [
            "Epoch 1/20\n",
            "\u001b[1m625/625\u001b[0m \u001b[32m━━━━━━━━━━━━━━━━━━━━\u001b[0m\u001b[37m\u001b[0m \u001b[1m112s\u001b[0m 173ms/step - accuracy: 0.0976 - loss: 4.1252 - val_accuracy: 0.1968 - val_loss: 3.3575 - learning_rate: 0.0010\n",
            "Epoch 2/20\n",
            "\u001b[1m625/625\u001b[0m \u001b[32m━━━━━━━━━━━━━━━━━━━━\u001b[0m\u001b[37m\u001b[0m \u001b[1m141s\u001b[0m 172ms/step - accuracy: 0.2245 - loss: 3.1794 - val_accuracy: 0.2533 - val_loss: 3.0730 - learning_rate: 0.0010\n",
            "Epoch 3/20\n",
            "\u001b[1m625/625\u001b[0m \u001b[32m━━━━━━━━━━━━━━━━━━━━\u001b[0m\u001b[37m\u001b[0m \u001b[1m140s\u001b[0m 169ms/step - accuracy: 0.3005 - loss: 2.7642 - val_accuracy: 0.2797 - val_loss: 3.0923 - learning_rate: 0.0010\n",
            "Epoch 4/20\n",
            "\u001b[1m625/625\u001b[0m \u001b[32m━━━━━━━━━━━━━━━━━━━━\u001b[0m\u001b[37m\u001b[0m \u001b[1m106s\u001b[0m 169ms/step - accuracy: 0.3536 - loss: 2.4776 - val_accuracy: 0.3332 - val_loss: 2.6744 - learning_rate: 0.0010\n",
            "Epoch 5/20\n",
            "\u001b[1m625/625\u001b[0m \u001b[32m━━━━━━━━━━━━━━━━━━━━\u001b[0m\u001b[37m\u001b[0m \u001b[1m107s\u001b[0m 170ms/step - accuracy: 0.4132 - loss: 2.2347 - val_accuracy: 0.3425 - val_loss: 2.6194 - learning_rate: 0.0010\n",
            "Epoch 6/20\n",
            "\u001b[1m625/625\u001b[0m \u001b[32m━━━━━━━━━━━━━━━━━━━━\u001b[0m\u001b[37m\u001b[0m \u001b[1m146s\u001b[0m 177ms/step - accuracy: 0.4541 - loss: 2.0238 - val_accuracy: 0.3769 - val_loss: 2.4641 - learning_rate: 0.0010\n",
            "Epoch 7/20\n",
            "\u001b[1m625/625\u001b[0m \u001b[32m━━━━━━━━━━━━━━━━━━━━\u001b[0m\u001b[37m\u001b[0m \u001b[1m138s\u001b[0m 171ms/step - accuracy: 0.5008 - loss: 1.8347 - val_accuracy: 0.4000 - val_loss: 2.3775 - learning_rate: 0.0010\n",
            "Epoch 8/20\n",
            "\u001b[1m625/625\u001b[0m \u001b[32m━━━━━━━━━━━━━━━━━━━━\u001b[0m\u001b[37m\u001b[0m \u001b[1m141s\u001b[0m 169ms/step - accuracy: 0.5430 - loss: 1.6236 - val_accuracy: 0.3827 - val_loss: 2.6468 - learning_rate: 0.0010\n",
            "Epoch 9/20\n",
            "\u001b[1m625/625\u001b[0m \u001b[32m━━━━━━━━━━━━━━━━━━━━\u001b[0m\u001b[37m\u001b[0m \u001b[1m145s\u001b[0m 175ms/step - accuracy: 0.5872 - loss: 1.4354 - val_accuracy: 0.4006 - val_loss: 2.4839 - learning_rate: 0.0010\n",
            "Epoch 10/20\n",
            "\u001b[1m625/625\u001b[0m \u001b[32m━━━━━━━━━━━━━━━━━━━━\u001b[0m\u001b[37m\u001b[0m \u001b[1m0s\u001b[0m 161ms/step - accuracy: 0.6189 - loss: 1.2926\n",
            "Epoch 10: ReduceLROnPlateau reducing learning rate to 0.0005000000237487257.\n",
            "\u001b[1m625/625\u001b[0m \u001b[32m━━━━━━━━━━━━━━━━━━━━\u001b[0m\u001b[37m\u001b[0m \u001b[1m139s\u001b[0m 169ms/step - accuracy: 0.6189 - loss: 1.2927 - val_accuracy: 0.4067 - val_loss: 2.5632 - learning_rate: 0.0010\n",
            "Epoch 11/20\n",
            "\u001b[1m625/625\u001b[0m \u001b[32m━━━━━━━━━━━━━━━━━━━━\u001b[0m\u001b[37m\u001b[0m \u001b[1m105s\u001b[0m 169ms/step - accuracy: 0.7110 - loss: 0.9674 - val_accuracy: 0.4431 - val_loss: 2.4976 - learning_rate: 5.0000e-04\n",
            "Epoch 12/20\n",
            "\u001b[1m625/625\u001b[0m \u001b[32m━━━━━━━━━━━━━━━━━━━━\u001b[0m\u001b[37m\u001b[0m \u001b[1m142s\u001b[0m 168ms/step - accuracy: 0.7731 - loss: 0.7391 - val_accuracy: 0.4421 - val_loss: 2.6479 - learning_rate: 5.0000e-04\n",
            "Epoch 13/20\n",
            "\u001b[1m625/625\u001b[0m \u001b[32m━━━━━━━━━━━━━━━━━━━━\u001b[0m\u001b[37m\u001b[0m \u001b[1m0s\u001b[0m 158ms/step - accuracy: 0.8089 - loss: 0.6242\n",
            "Epoch 13: ReduceLROnPlateau reducing learning rate to 0.0002500000118743628.\n",
            "\u001b[1m625/625\u001b[0m \u001b[32m━━━━━━━━━━━━━━━━━━━━\u001b[0m\u001b[37m\u001b[0m \u001b[1m141s\u001b[0m 167ms/step - accuracy: 0.8089 - loss: 0.6243 - val_accuracy: 0.4365 - val_loss: 2.7233 - learning_rate: 5.0000e-04\n",
            "Epoch 14/20\n",
            "\u001b[1m625/625\u001b[0m \u001b[32m━━━━━━━━━━━━━━━━━━━━\u001b[0m\u001b[37m\u001b[0m \u001b[1m143s\u001b[0m 169ms/step - accuracy: 0.8523 - loss: 0.4847 - val_accuracy: 0.4451 - val_loss: 2.9412 - learning_rate: 2.5000e-04\n",
            "Epoch 15/20\n",
            "\u001b[1m625/625\u001b[0m \u001b[32m━━━━━━━━━━━━━━━━━━━━\u001b[0m\u001b[37m\u001b[0m \u001b[1m106s\u001b[0m 169ms/step - accuracy: 0.8787 - loss: 0.3959 - val_accuracy: 0.4479 - val_loss: 2.8994 - learning_rate: 2.5000e-04\n",
            "Epoch 16/20\n",
            "\u001b[1m625/625\u001b[0m \u001b[32m━━━━━━━━━━━━━━━━━━━━\u001b[0m\u001b[37m\u001b[0m \u001b[1m0s\u001b[0m 161ms/step - accuracy: 0.8914 - loss: 0.3518\n",
            "Epoch 16: ReduceLROnPlateau reducing learning rate to 0.0001250000059371814.\n",
            "\u001b[1m625/625\u001b[0m \u001b[32m━━━━━━━━━━━━━━━━━━━━\u001b[0m\u001b[37m\u001b[0m \u001b[1m147s\u001b[0m 177ms/step - accuracy: 0.8914 - loss: 0.3519 - val_accuracy: 0.4508 - val_loss: 2.9192 - learning_rate: 2.5000e-04\n",
            "Epoch 17/20\n",
            "\u001b[1m625/625\u001b[0m \u001b[32m━━━━━━━━━━━━━━━━━━━━\u001b[0m\u001b[37m\u001b[0m \u001b[1m140s\u001b[0m 175ms/step - accuracy: 0.9121 - loss: 0.2904 - val_accuracy: 0.4524 - val_loss: 3.0628 - learning_rate: 1.2500e-04\n",
            "Epoch 18/20\n",
            "\u001b[1m625/625\u001b[0m \u001b[32m━━━━━━━━━━━━━━━━━━━━\u001b[0m\u001b[37m\u001b[0m \u001b[1m104s\u001b[0m 167ms/step - accuracy: 0.9182 - loss: 0.2631 - val_accuracy: 0.4543 - val_loss: 3.0922 - learning_rate: 1.2500e-04\n",
            "Epoch 19/20\n",
            "\u001b[1m625/625\u001b[0m \u001b[32m━━━━━━━━━━━━━━━━━━━━\u001b[0m\u001b[37m\u001b[0m \u001b[1m0s\u001b[0m 161ms/step - accuracy: 0.9273 - loss: 0.2417\n",
            "Epoch 19: ReduceLROnPlateau reducing learning rate to 6.25000029685907e-05.\n",
            "\u001b[1m625/625\u001b[0m \u001b[32m━━━━━━━━━━━━━━━━━━━━\u001b[0m\u001b[37m\u001b[0m \u001b[1m144s\u001b[0m 170ms/step - accuracy: 0.9273 - loss: 0.2418 - val_accuracy: 0.4524 - val_loss: 3.1218 - learning_rate: 1.2500e-04\n",
            "Epoch 20/20\n",
            "\u001b[1m625/625\u001b[0m \u001b[32m━━━━━━━━━━━━━━━━━━━━\u001b[0m\u001b[37m\u001b[0m \u001b[1m105s\u001b[0m 167ms/step - accuracy: 0.9404 - loss: 0.2083 - val_accuracy: 0.4547 - val_loss: 3.1485 - learning_rate: 6.2500e-05\n"
          ]
        }
      ],
      "source": [
        "from tensorflow.keras.models import Sequential\n",
        "from tensorflow.keras.layers import Conv2D, MaxPooling2D, Flatten, Dense, Dropout, BatchNormalization\n",
        "from tensorflow.keras.optimizers import Adam\n",
        "from tensorflow.keras.callbacks import ReduceLROnPlateau\n",
        "from tensorflow.keras.preprocessing.image import ImageDataGenerator\n",
        "\n",
        "\n",
        "model = Sequential()\n",
        "\n",
        "model.add(Conv2D(32, (3, 3), activation='relu', input_shape=(32, 32, 3)))\n",
        "model.add(BatchNormalization())\n",
        "model.add(MaxPooling2D(pool_size=(2, 2)))\n",
        "\n",
        "model.add(Conv2D(64, (3, 3), activation='relu'))\n",
        "model.add(BatchNormalization())\n",
        "model.add(MaxPooling2D(pool_size=(2, 2)))\n",
        "\n",
        "model.add(Conv2D(128, (3, 3), activation='relu'))\n",
        "model.add(BatchNormalization())\n",
        "model.add(MaxPooling2D(pool_size=(2, 2)))\n",
        "\n",
        "model.add(Conv2D(256, (3, 3), activation='relu', padding='same'))\n",
        "model.add(BatchNormalization())\n",
        "\n",
        "model.add(Flatten())\n",
        "\n",
        "model.add(Dense(512, activation='relu'))\n",
        "model.add(Dropout(0.4))\n",
        "\n",
        "\n",
        "model.add(Dense(100, activation='softmax'))\n",
        "\n",
        "\n",
        "model.compile(optimizer=Adam(), loss='categorical_crossentropy', metrics=['accuracy'])\n",
        "\n",
        "\n",
        "lr_scheduler = ReduceLROnPlateau(monitor='val_loss', factor=0.5, patience=3, verbose=1)\n",
        "\n",
        "datagen = ImageDataGenerator(\n",
        "    rotation_range=20,\n",
        "    width_shift_range=0.2,\n",
        "    height_shift_range=0.2,\n",
        "    shear_range=0.2,\n",
        "    zoom_range=0.2,\n",
        "    horizontal_flip=True,\n",
        "    fill_mode='nearest'\n",
        ")\n",
        "\n",
        "datagen.fit(x_train)\n",
        "\n",
        "# Train the model\n",
        "new_model = model.fit(\n",
        "    x_train, y_train,  # Use the normalized images\n",
        "    epochs=20,\n",
        "    batch_size=64,\n",
        "    validation_data=(x_val, y_val),\n",
        "    callbacks=[lr_scheduler]\n",
        ")\n",
        "\n",
        "\n"
      ]
    },
    {
      "cell_type": "markdown",
      "source": [
        "Data Augmentation allows to transform the existing images (either by rotating, shifting, zooming or scaling) to learn more about image & accurately classify the image to correct label.\n",
        "\n"
      ],
      "metadata": {
        "id": "LmzK0QAAlwhm"
      },
      "id": "LmzK0QAAlwhm"
    },
    {
      "cell_type": "code",
      "source": [
        "test_loss, test_accuracy = new_model.model.evaluate(x_val, y_val)\n",
        "print(f\"Test Accuracy: {test_accuracy:.4f}\")\n",
        "print(f\"Test Loss: {test_loss:.4f}\")\n"
      ],
      "metadata": {
        "id": "AgEQyTOCkCrd",
        "outputId": "770f97b3-8fef-409a-c0c7-e9894dbb8dc6",
        "colab": {
          "base_uri": "https://localhost:8080/"
        }
      },
      "id": "AgEQyTOCkCrd",
      "execution_count": 90,
      "outputs": [
        {
          "output_type": "stream",
          "name": "stdout",
          "text": [
            "\u001b[1m313/313\u001b[0m \u001b[32m━━━━━━━━━━━━━━━━━━━━\u001b[0m\u001b[37m\u001b[0m \u001b[1m6s\u001b[0m 19ms/step - accuracy: 0.4556 - loss: 3.1293\n",
            "Test Accuracy: 0.4547\n",
            "Test Loss: 3.1485\n"
          ]
        }
      ]
    },
    {
      "cell_type": "markdown",
      "id": "d9467a483a1dd5d3",
      "metadata": {
        "collapsed": false,
        "id": "d9467a483a1dd5d3"
      },
      "source": [
        "### Task 4b: Evaluation of the enhanced model\n",
        "\n",
        "- Re-train your model using the same number of epochs as before.\n",
        "- Compare the accuracy and other selected metric on the test set to the results you obtained before.\n",
        "- As before, plot the training accuracy and validation accuracy with respect to epochs, and select an image that the model correctly classified in the test set, and an image that the model incorrectly classified in the test set. Plot the images and report the model's classification probabilities for each."
      ]
    },
    {
      "cell_type": "code",
      "execution_count": 91,
      "id": "7c4701b36dc8fc55",
      "metadata": {
        "id": "7c4701b36dc8fc55",
        "outputId": "980e460c-3632-4e55-90c9-749a038f8468",
        "colab": {
          "base_uri": "https://localhost:8080/",
          "height": 487
        }
      },
      "outputs": [
        {
          "output_type": "display_data",
          "data": {
            "text/plain": [
              "<Figure size 1000x500 with 1 Axes>"
            ],
            "image/png": "[encoded data removed]"
          },
          "metadata": {}
        }
      ],
      "source": [
        "# Plot the training and validation accuracy\n",
        "plt.figure(figsize=(10, 5))\n",
        "plt.plot(new_model.history['accuracy'], label='Training Accuracy')\n",
        "plt.plot(new_model.history['val_accuracy'], label='Validation Accuracy')\n",
        "plt.title('Training and Validation Accuracy Over Epochs')\n",
        "plt.xlabel('Epochs')\n",
        "plt.ylabel('Accuracy')\n",
        "plt.legend()\n",
        "plt.show()\n"
      ]
    },
    {
      "cell_type": "code",
      "source": [
        "# Get predictions for the test set\n",
        "y_pred = new_model.model.predict(x_val)\n",
        "\n",
        "# Convert the predictions to class indices\n",
        "y_pred_classes = np.argmax(y_pred, axis=1)\n",
        "y_true_classes = np.argmax(y_val, axis=1)\n",
        "\n",
        "# Find correctly and incorrectly classified images\n",
        "correct_indices = np.where(y_pred_classes == y_true_classes)[0]\n",
        "incorrect_indices = np.where(y_pred_classes != y_true_classes)[0]\n",
        "\n",
        "# Select one correct and one incorrect image\n",
        "correct_idx = correct_indices[0]\n",
        "incorrect_idx = incorrect_indices[0]\n",
        "\n",
        "# Plot the correct image\n",
        "plt.figure(figsize=(12, 6))\n",
        "\n",
        "# Correct image\n",
        "plt.subplot(1, 2, 1)\n",
        "plt.imshow(x_test[correct_idx])\n",
        "plt.title(f\"Correctly Classified\\nTrue: {class_names[y_true_classes[correct_idx]]}, Pred: {class_names[y_pred_classes[correct_idx]]}\")\n",
        "plt.axis('off')\n",
        "\n",
        "# Incorrect image\n",
        "plt.subplot(1, 2, 2)\n",
        "plt.imshow(x_test[incorrect_idx])\n",
        "plt.title(f\"Incorrectly Classified\\nTrue: {class_names[y_true_classes[incorrect_idx]]}, Pred: {class_names[y_pred_classes[incorrect_idx]]}\")\n",
        "plt.axis('off')\n",
        "\n",
        "plt.show()\n",
        "\n",
        "# Get classification probabilities for both correct and incorrect images\n",
        "correct_prob = y_pred[correct_idx]  # Probabilities for the correct image\n",
        "incorrect_prob = y_pred[incorrect_idx]  # Probabilities for the incorrect image\n",
        "\n",
        "# Show the classification probabilities for the correct image\n",
        "print(\"Correctly Classified Image Probabilities:\")\n",
        "for i, (cls, prob) in enumerate(zip(class_names, correct_prob)):\n",
        "    print(f\"{cls}: {prob:.4f}\")\n",
        "\n",
        "# Show the classification probabilities for the incorrect image\n",
        "print(\"\\nIncorrectly Classified Image Probabilities:\")\n",
        "for i, (cls, prob) in enumerate(zip(class_names, incorrect_prob)):\n",
        "    print(f\"{cls}: {prob:.4f}\")\n"
      ],
      "metadata": {
        "id": "CHReUIRmzUcZ",
        "outputId": "045a5c2f-af5e-4879-ed5b-4208076a903f",
        "colab": {
          "base_uri": "https://localhost:8080/",
          "height": 1000
        }
      },
      "id": "CHReUIRmzUcZ",
      "execution_count": 94,
      "outputs": [
        {
          "output_type": "stream",
          "name": "stdout",
          "text": [
            "\u001b[1m313/313\u001b[0m \u001b[32m━━━━━━━━━━━━━━━━━━━━\u001b[0m\u001b[37m\u001b[0m \u001b[1m9s\u001b[0m 28ms/step\n"
          ]
        },
        {
          "output_type": "display_data",
          "data": {
            "text/plain": [
              "<Figure size 1200x600 with 2 Axes>"
            ],
            "image/png": "[encoded data removed]"
          },
          "metadata": {}
        },
        {
          "output_type": "stream",
          "name": "stdout",
          "text": [
            "Correctly Classified Image Probabilities:\n",
            "apple: 0.0000\n",
            "aquarium_fish: 0.0000\n",
            "baby: 0.0000\n",
            "bear: 0.0001\n",
            "beaver: 0.0000\n",
            "bed: 0.0000\n",
            "bee: 0.0000\n",
            "beetle: 0.0000\n",
            "bicycle: 0.0000\n",
            "bottle: 0.0000\n",
            "bowl: 0.0000\n",
            "boy: 0.0000\n",
            "bridge: 0.0052\n",
            "bus: 0.7513\n",
            "butterfly: 0.0000\n",
            "camel: 0.0000\n",
            "can: 0.0005\n",
            "castle: 0.0000\n",
            "caterpillar: 0.0000\n",
            "cattle: 0.0002\n",
            "chair: 0.0000\n",
            "chimpanzee: 0.0009\n",
            "clock: 0.0005\n",
            "cloud: 0.0000\n",
            "cockroach: 0.0000\n",
            "couch: 0.0083\n",
            "crab: 0.0000\n",
            "crocodile: 0.0000\n",
            "cup: 0.0000\n",
            "dinosaur: 0.0000\n",
            "dolphin: 0.0000\n",
            "elephant: 0.0000\n",
            "flatfish: 0.0000\n",
            "forest: 0.0001\n",
            "fox: 0.0000\n",
            "girl: 0.0000\n",
            "hamster: 0.0000\n",
            "house: 0.0000\n",
            "kangaroo: 0.0000\n",
            "keyboard: 0.0000\n",
            "lamp: 0.0000\n",
            "lawn_mower: 0.0000\n",
            "leopard: 0.0000\n",
            "lion: 0.0000\n",
            "lizard: 0.0000\n",
            "lobster: 0.0000\n",
            "man: 0.0001\n",
            "maple_tree: 0.0000\n",
            "motorcycle: 0.0025\n",
            "mountain: 0.0000\n",
            "mouse: 0.0000\n",
            "mushroom: 0.0000\n",
            "oak_tree: 0.0000\n",
            "orange: 0.0000\n",
            "orchid: 0.0000\n",
            "otter: 0.0000\n",
            "palm_tree: 0.0000\n",
            "pear: 0.0000\n",
            "pickup_truck: 0.0031\n",
            "pine_tree: 0.0000\n",
            "plain: 0.0000\n",
            "plate: 0.0000\n",
            "poppy: 0.0000\n",
            "porcupine: 0.0000\n",
            "possum: 0.0000\n",
            "rabbit: 0.0000\n",
            "raccoon: 0.0005\n",
            "ray: 0.0000\n",
            "road: 0.0000\n",
            "rocket: 0.0000\n",
            "rose: 0.0000\n",
            "sea: 0.0000\n",
            "seal: 0.0000\n",
            "shark: 0.0000\n",
            "shrew: 0.0000\n",
            "skunk: 0.0007\n",
            "skyscraper: 0.0000\n",
            "snail: 0.0000\n",
            "snake: 0.0062\n",
            "spider: 0.0000\n",
            "squirrel: 0.0000\n",
            "streetcar: 0.1471\n",
            "sunflower: 0.0000\n",
            "sweet_pepper: 0.0000\n",
            "table: 0.0001\n",
            "tank: 0.0553\n",
            "telephone: 0.0000\n",
            "television: 0.0006\n",
            "tiger: 0.0000\n",
            "tractor: 0.0061\n",
            "train: 0.0104\n",
            "trout: 0.0000\n",
            "tulip: 0.0000\n",
            "turtle: 0.0000\n",
            "wardrobe: 0.0000\n",
            "whale: 0.0000\n",
            "willow_tree: 0.0000\n",
            "wolf: 0.0000\n",
            "woman: 0.0000\n",
            "worm: 0.0000\n",
            "\n",
            "Incorrectly Classified Image Probabilities:\n",
            "apple: 0.0000\n",
            "aquarium_fish: 0.0000\n",
            "baby: 0.0000\n",
            "bear: 0.7486\n",
            "beaver: 0.0335\n",
            "bed: 0.0000\n",
            "bee: 0.0000\n",
            "beetle: 0.0000\n",
            "bicycle: 0.0000\n",
            "bottle: 0.0000\n",
            "bowl: 0.0000\n",
            "boy: 0.0000\n",
            "bridge: 0.0000\n",
            "bus: 0.0000\n",
            "butterfly: 0.0000\n",
            "camel: 0.0000\n",
            "can: 0.0000\n",
            "castle: 0.0000\n",
            "caterpillar: 0.0000\n",
            "cattle: 0.0023\n",
            "chair: 0.0000\n",
            "chimpanzee: 0.0000\n",
            "clock: 0.0000\n",
            "cloud: 0.0000\n",
            "cockroach: 0.0000\n",
            "couch: 0.0000\n",
            "crab: 0.0000\n",
            "crocodile: 0.0000\n",
            "cup: 0.0000\n",
            "dinosaur: 0.0001\n",
            "dolphin: 0.0000\n",
            "elephant: 0.0010\n",
            "flatfish: 0.0000\n",
            "forest: 0.0000\n",
            "fox: 0.0000\n",
            "girl: 0.0000\n",
            "hamster: 0.0000\n",
            "house: 0.0000\n",
            "kangaroo: 0.0000\n",
            "keyboard: 0.0000\n",
            "lamp: 0.0000\n",
            "lawn_mower: 0.0000\n",
            "leopard: 0.0000\n",
            "lion: 0.0000\n",
            "lizard: 0.0000\n",
            "lobster: 0.0000\n",
            "man: 0.0000\n",
            "maple_tree: 0.0000\n",
            "motorcycle: 0.0000\n",
            "mountain: 0.0000\n",
            "mouse: 0.0000\n",
            "mushroom: 0.0000\n",
            "oak_tree: 0.0000\n",
            "orange: 0.0000\n",
            "orchid: 0.0000\n",
            "otter: 0.0116\n",
            "palm_tree: 0.0000\n",
            "pear: 0.0000\n",
            "pickup_truck: 0.0000\n",
            "pine_tree: 0.0000\n",
            "plain: 0.0000\n",
            "plate: 0.0000\n",
            "poppy: 0.0000\n",
            "porcupine: 0.1910\n",
            "possum: 0.0001\n",
            "rabbit: 0.0000\n",
            "raccoon: 0.0000\n",
            "ray: 0.0000\n",
            "road: 0.0000\n",
            "rocket: 0.0000\n",
            "rose: 0.0000\n",
            "sea: 0.0000\n",
            "seal: 0.0001\n",
            "shark: 0.0000\n",
            "shrew: 0.0115\n",
            "skunk: 0.0000\n",
            "skyscraper: 0.0000\n",
            "snail: 0.0000\n",
            "snake: 0.0000\n",
            "spider: 0.0000\n",
            "squirrel: 0.0000\n",
            "streetcar: 0.0000\n",
            "sunflower: 0.0000\n",
            "sweet_pepper: 0.0000\n",
            "table: 0.0000\n",
            "tank: 0.0000\n",
            "telephone: 0.0000\n",
            "television: 0.0000\n",
            "tiger: 0.0000\n",
            "tractor: 0.0000\n",
            "train: 0.0000\n",
            "trout: 0.0000\n",
            "tulip: 0.0000\n",
            "turtle: 0.0000\n",
            "wardrobe: 0.0000\n",
            "whale: 0.0000\n",
            "willow_tree: 0.0000\n",
            "wolf: 0.0000\n",
            "woman: 0.0000\n",
            "worm: 0.0000\n"
          ]
        }
      ]
    },
    {
      "cell_type": "markdown",
      "id": "eadfc848700215e8",
      "metadata": {
        "collapsed": false,
        "id": "eadfc848700215e8"
      },
      "source": [
        "### Task 4c: Discussion of the results\n",
        "\n",
        "- Briefly discuss the results.\n",
        "- Did the model's performance improve?\n",
        "- Why do you think this is?\n",
        "- Do you think there is room for further improvement? Why or why not?\n",
        "- What other techniques might you try in the future?\n",
        "- Your answer should be no more than 200 words.\n",
        "\n",
        "# Your answer here\n",
        "\n",
        "The new model degrades the performance & it's underfitting the result\n",
        "Future improvement could be adding Adam with different learning rate can provide some better accuracy."
      ]
    },
    {
      "cell_type": "markdown",
      "id": "7415f68f",
      "metadata": {
        "id": "7415f68f"
      },
      "source": [
        "## Criteria\n",
        "\n",
        "|Criteria|Complete|Incomplete|\n",
        "|----|----|----|\n",
        "|Task 1|The task has been completed successfully and there are no errors.|The task is still incomplete and there is at least one error.|\n",
        "|Task 2|The task has been completed successfully and there are no errors.|The task is still incomplete and there is at least one error.|\n",
        "|Task 3|The task has been completed successfully and there are no errors.|The task is still incomplete and there is at least one error.|\n",
        "|Task 4|The task has been completed successfully and there are no errors.|The task is still incomplete and there is at least one error.|"
      ]
    },
    {
      "cell_type": "markdown",
      "id": "ad0c10bc",
      "metadata": {
        "id": "ad0c10bc"
      },
      "source": [
        "## Submission Information\n",
        "\n",
        "🚨 **Please review our [Assignment Submission Guide](https://github.com/UofT-DSI/onboarding/blob/main/onboarding_documents/submissions.md)** 🚨 for detailed instructions on how to format, branch, and submit your work. Following these guidelines is crucial for your submissions to be evaluated correctly.\n",
        "\n",
        "### Submission Parameters:\n",
        "* Submission Due Date: `HH:MM AM/PM - DD/MM/YYYY`\n",
        "* The branch name for your repo should be: `assignment-1`\n",
        "* What to submit for this assignment:\n",
        "    * This Jupyter Notebook (assignment_1.ipynb) should be populated and should be the only change in your pull request.\n",
        "* What the pull request link should look like for this assignment: `https://github.com/<your_github_username>/deep_learning/pull/<pr_id>`\n",
        "    * Open a private window in your browser. Copy and paste the link to your pull request into the address bar. Make sure you can see your pull request properly. This helps the technical facilitator and learning support staff review your submission easily.\n",
        "\n",
        "Checklist:\n",
        "- [ ] Created a branch with the correct naming convention.\n",
        "- [ ] Ensured that the repository is public.\n",
        "- [ ] Reviewed the PR description guidelines and adhered to them.\n",
        "- [ ] Verify that the link is accessible in a private browser window.\n",
        "\n",
        "If you encounter any difficulties or have questions, please don't hesitate to reach out to our team via our Slack at `#cohort-3-help`. Our Technical Facilitators and Learning Support staff are here to help you navigate any challenges."
      ]
    }
  ],
  "metadata": {
    "kernelspec": {
      "display_name": "lab_1",
      "language": "python",
      "name": "python3"
    },
    "language_info": {
      "codemirror_mode": {
        "name": "ipython",
        "version": 3
      },
      "file_extension": ".py",
      "mimetype": "text/x-python",
      "name": "python",
      "nbconvert_exporter": "python",
      "pygments_lexer": "ipython3",
      "version": "3.12.9"
    },
    "colab": {
      "provenance": []
    }
  },
  "nbformat": 4,
  "nbformat_minor": 5
}